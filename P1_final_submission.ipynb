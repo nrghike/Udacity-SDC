{
 "cells": [
  {
   "cell_type": "markdown",
   "metadata": {},
   "source": [
    "# **Finding Lane Lines on the Road** \n",
    "***\n",
    "In this project, you will use the tools you learned about in the lesson to identify lane lines on the road.  You can develop your pipeline on a series of individual images, and later apply the result to a video stream (really just a series of images). Check out the video clip \"raw-lines-example.mp4\" (also contained in this repository) to see what the output should look like after using the helper functions below. \n",
    "\n",
    "Once you have a result that looks roughly like \"raw-lines-example.mp4\", you'll need to get creative and try to average and/or extrapolate the line segments you've detected to map out the full extent of the lane lines.  You can see an example of the result you're going for in the video \"P1_example.mp4\".  Ultimately, you would like to draw just one line for the left side of the lane, and one for the right.\n",
    "\n",
    "---\n",
    "Let's have a look at our first image called 'test_images/solidWhiteRight.jpg'.  Run the 2 cells below (hit Shift-Enter or the \"play\" button above) to display the image.\n",
    "\n",
    "**Note** If, at any point, you encounter frozen display windows or other confounding issues, you can always start again with a clean slate by going to the \"Kernel\" menu above and selecting \"Restart & Clear Output\".\n",
    "\n",
    "---"
   ]
  },
  {
   "cell_type": "markdown",
   "metadata": {},
   "source": [
    "**The tools you have are color selection, region of interest selection, grayscaling, Gaussian smoothing, Canny Edge Detection and Hough Tranform line detection.  You  are also free to explore and try other techniques that were not presented in the lesson.  Your goal is piece together a pipeline to detect the line segments in the image, then average/extrapolate them and draw them onto the image for display (as below).  Once you have a working pipeline, try it out on the video stream below.**\n",
    "\n",
    "---\n",
    "\n",
    "<figure>\n",
    " <img src=\"line-segments-example.jpg\" width=\"380\" alt=\"Combined Image\" />\n",
    " <figcaption>\n",
    " <p></p> \n",
    " <p style=\"text-align: center;\"> Your output should look something like this (above) after detecting line segments using the helper functions below </p> \n",
    " </figcaption>\n",
    "</figure>\n",
    " <p></p> \n",
    "<figure>\n",
    " <img src=\"laneLines_thirdPass.jpg\" width=\"380\" alt=\"Combined Image\" />\n",
    " <figcaption>\n",
    " <p></p> \n",
    " <p style=\"text-align: center;\"> Your goal is to connect/average/extrapolate line segments to get output like this</p> \n",
    " </figcaption>\n",
    "</figure>"
   ]
  },
  {
   "cell_type": "code",
   "execution_count": 1,
   "metadata": {
    "collapsed": false
   },
   "outputs": [
    {
     "ename": "ImportError",
     "evalue": "No module named 'cv2'",
     "output_type": "error",
     "traceback": [
      "\u001b[0;31m\u001b[0m",
      "\u001b[0;31mImportError\u001b[0mTraceback (most recent call last)",
      "\u001b[0;32m<ipython-input-1-8b102c2bf388>\u001b[0m in \u001b[0;36m<module>\u001b[0;34m()\u001b[0m\n\u001b[1;32m      3\u001b[0m \u001b[0;32mimport\u001b[0m \u001b[0mmatplotlib\u001b[0m\u001b[0;34m.\u001b[0m\u001b[0mimage\u001b[0m \u001b[0;32mas\u001b[0m \u001b[0mmpimg\u001b[0m\u001b[0;34m\u001b[0m\u001b[0m\n\u001b[1;32m      4\u001b[0m \u001b[0;32mimport\u001b[0m \u001b[0mnumpy\u001b[0m \u001b[0;32mas\u001b[0m \u001b[0mnp\u001b[0m\u001b[0;34m\u001b[0m\u001b[0m\n\u001b[0;32m----> 5\u001b[0;31m \u001b[0;32mimport\u001b[0m \u001b[0mcv2\u001b[0m\u001b[0;34m\u001b[0m\u001b[0m\n\u001b[0m\u001b[1;32m      6\u001b[0m \u001b[0;32mimport\u001b[0m \u001b[0mcollections\u001b[0m\u001b[0;34m\u001b[0m\u001b[0m\n\u001b[1;32m      7\u001b[0m \u001b[0mget_ipython\u001b[0m\u001b[0;34m(\u001b[0m\u001b[0;34m)\u001b[0m\u001b[0;34m.\u001b[0m\u001b[0mmagic\u001b[0m\u001b[0;34m(\u001b[0m\u001b[0;34m'matplotlib inline'\u001b[0m\u001b[0;34m)\u001b[0m\u001b[0;34m\u001b[0m\u001b[0m\n",
      "\u001b[0;31mImportError\u001b[0m: No module named 'cv2'"
     ]
    }
   ],
   "source": [
    "#importing some useful packages\n",
    "import matplotlib.pyplot as plt\n",
    "import matplotlib.image as mpimg\n",
    "import numpy as np\n",
    "import cv2\n",
    "import collections\n",
    "%matplotlib inline"
   ]
  },
  {
   "cell_type": "code",
   "execution_count": null,
   "metadata": {
    "collapsed": false
   },
   "outputs": [],
   "source": [
    "#reading in an image\n",
    "image = mpimg.imread('test_images/solidWhiteRight.jpg')\n",
    "#printing out some stats and plotting\n",
    "print('This image is:', type(image), 'with dimesions:', image.shape)\n",
    "plt.imshow(image)  #call as plt.imshow(gray, cmap='gray') to show a grayscaled image"
   ]
  },
  {
   "cell_type": "markdown",
   "metadata": {},
   "source": [
    "**Some OpenCV functions (beyond those introduced in the lesson) that might be useful for this project are:**\n",
    "\n",
    "`cv2.inRange()` for color selection  \n",
    "`cv2.fillPoly()` for regions selection  \n",
    "`cv2.line()` to draw lines on an image given endpoints  \n",
    "`cv2.addWeighted()` to coadd / overlay two images\n",
    "`cv2.cvtColor()` to grayscale or change color\n",
    "`cv2.imwrite()` to output images to file  \n",
    "`cv2.bitwise_and()` to apply a mask to an image\n",
    "\n",
    "**Check out the OpenCV documentation to learn about these and discover even more awesome functionality!**"
   ]
  },
  {
   "cell_type": "markdown",
   "metadata": {},
   "source": [
    "Below are some helper functions to help get you started. They should look familiar from the lesson!"
   ]
  },
  {
   "cell_type": "code",
   "execution_count": null,
   "metadata": {
    "collapsed": false
   },
   "outputs": [],
   "source": [
    "import math\n",
    "\n",
    "def grayscale(img):\n",
    "    \"\"\"Applies the Grayscale transform\n",
    "    This will return an image with only one color channel\n",
    "    but NOTE: to see the returned image as grayscale\n",
    "    you should call plt.imshow(gray, cmap='gray')\"\"\"\n",
    "    return cv2.cvtColor(img, cv2.COLOR_RGB2GRAY)\n",
    "    # Or use BGR2GRAY if you read an image with cv2.imread()\n",
    "    # return cv2.cvtColor(img, cv2.COLOR_BGR2GRAY)\n",
    "    \n",
    "def canny(img, low_threshold, high_threshold):\n",
    "    \"\"\"Applies the Canny transform\"\"\"\n",
    "    return cv2.Canny(img, low_threshold, high_threshold)\n",
    "\n",
    "def gaussian_blur(img, kernel_size):\n",
    "    \"\"\"Applies a Gaussian Noise kernel\"\"\"\n",
    "    return cv2.GaussianBlur(img, (kernel_size, kernel_size), 0)\n",
    "\n",
    "def region_of_interest(img, vertices):\n",
    "    \"\"\"\n",
    "    Applies an image mask.\n",
    "    \n",
    "    Only keeps the region of the image defined by the polygon\n",
    "    formed from `vertices`. The rest of the image is set to black.\n",
    "    \"\"\"\n",
    "    #defining a blank mask to start with\n",
    "    mask = np.zeros_like(img)   \n",
    "    \n",
    "    #defining a 3 channel or 1 channel color to fill the mask with depending on the input image\n",
    "    if len(img.shape) > 2:\n",
    "        channel_count = img.shape[2]  # i.e. 3 or 4 depending on your image\n",
    "        ignore_mask_color = (255,) * channel_count\n",
    "    else:\n",
    "        ignore_mask_color = 255\n",
    "        \n",
    "    #filling pixels inside the polygon defined by \"vertices\" with the fill color    \n",
    "    cv2.fillPoly(mask, vertices, ignore_mask_color)\n",
    "    \n",
    "    #returning the image only where mask pixels are nonzero\n",
    "    masked_image = cv2.bitwise_and(img, mask)\n",
    "    return masked_image\n",
    "\n",
    "def draw_all_lines(img, lines, color=[0, 255, 0], thickness=2):\n",
    "    for line in lines:\n",
    "        for x1,y1,x2,y2 in line:\n",
    "            cv2.line(img, (x1, y1), (x2, y2), color, thickness)\n",
    "            \n",
    "def hough_lines(img, rho, theta, threshold, min_line_len, max_line_gap):\n",
    "    \"\"\"\n",
    "    `img` should be the output of a Canny transform.\n",
    "        \n",
    "    Returns an image with hough lines drawn.\n",
    "    \"\"\"\n",
    "    lines = cv2.HoughLinesP(img, rho, theta, threshold, np.array([]), minLineLength=min_line_len, maxLineGap=max_line_gap)\n",
    "    line_img = np.zeros((*img.shape, 3), dtype=np.uint8)\n",
    "    draw_lines(line_img, lines)\n",
    "    return line_img\n",
    "\n",
    "# Python 3 has support for cool math symbols.\n",
    "\n",
    "def weighted_img(img, initial_img, α=0.8, β=1., λ=0.):\n",
    "    \"\"\"\n",
    "    `img` is the output of the hough_lines(), An image with lines drawn on it.\n",
    "    Should be a blank image (all black) with lines drawn on it.\n",
    "    \n",
    "    `initial_img` should be the image before any processing.\n",
    "    \n",
    "    The result image is computed as follows:\n",
    "    \n",
    "    initial_img * α + img * β + λ\n",
    "    NOTE: initial_img and img must be the same shape!\n",
    "    \"\"\"\n",
    "    return cv2.addWeighted(initial_img, α, img, β, λ)"
   ]
  },
  {
   "cell_type": "code",
   "execution_count": null,
   "metadata": {
    "collapsed": false
   },
   "outputs": [],
   "source": [
    "# Enable drawing some extra things in the output images to help debug the algorithm\n",
    "debug=False\n",
    "\n",
    "# We'll average information between frames\n",
    "prev_lines = collections.deque([], 5)\n",
    "\n",
    "def reset_prev_lines():\n",
    "    prev_lines.clear()\n",
    "\n",
    "def draw_lines(img, lines, color=[0, 255, 0], thickness=10):\n",
    "    \"\"\"\n",
    "    Here I'm applying a couple of the suggested techniques, first I split the lines into\n",
    "    left and right according to their slopes, then and to iterate only once, I take a moving\n",
    "    average of the slopes and discard the lines with a slope outside of the average.\n",
    "    I tried both including all lines into the average and only the ones passing the slope\n",
    "    average test, and including everything seems to work better.\n",
    "    \"\"\"\n",
    "    lSlopeAvg=0\n",
    "    rSlopeAvg=0\n",
    "    slope_tolerance=.1\n",
    "    slope_tolerance_from_zero=.5\n",
    "    bottom_y = img.shape[0]\n",
    "    top_y = int(bottom_y /1.6)\n",
    "    \n",
    "    lLines = []\n",
    "    rLines = []\n",
    "    l = 1\n",
    "    r = 1\n",
    "    \n",
    "    for line in lines:\n",
    "        for x1,y1,x2,y2 in line:\n",
    "            slope = (y2-y1)/(x2-x1)\n",
    "            if np.absolute(slope) == np.inf or np.absolute(slope) < slope_tolerance_from_zero:\n",
    "                continue\n",
    "            if debug:\n",
    "                cv2.line(img, (x1, y1), (x2, y2), color, thickness)\n",
    "            if slope < 0:\n",
    "                lSlopeAvg = lSlopeAvg + (slope - lSlopeAvg) / l\n",
    "                l += 1\n",
    "                if np.absolute(lSlopeAvg - slope) < slope_tolerance :\n",
    "                    lLines.append((x1,y1))\n",
    "                    lLines.append((x2,y2))\n",
    "            else:\n",
    "                rSlopeAvg = rSlopeAvg + (slope - rSlopeAvg) / r\n",
    "                r += 1\n",
    "                if np.absolute(rSlopeAvg - slope) < slope_tolerance :\n",
    "                    rLines.append((x1,y1))\n",
    "                    rLines.append((x2,y2))               \n",
    "    \n",
    "    \"\"\"\n",
    "    After having split the lines, I use cv2.fitline to fit the sets of points to a single line.\n",
    "    cv2.fitline gives back a unit vector and a point in the line, both of which we can use\n",
    "    to calculate the slope and intercept of the line function.\n",
    "    \"\"\"\n",
    "    if len(lLines) > 0 and len(rLines) > 0  :\n",
    "        [left_vx,left_vy,left_x,left_y] = cv2.fitLine(np.array(lLines, dtype=np.int32), cv2.DIST_L2,0,0.01,0.01)      \n",
    "        left_slope = left_vy / left_vx\n",
    "        left_b = left_y - (left_slope*left_x)\n",
    "\n",
    "        [right_vx,right_vy,right_x,right_y] = cv2.fitLine(np.array(rLines, dtype=np.int32), cv2.DIST_L2,0,0.01,0.01)    \n",
    "        right_slope = right_vy / right_vx\n",
    "        right_b = right_y - (right_slope*right_x)\n",
    "\n",
    "        # Average this line with previous frames       \n",
    "        prev_lines.append((left_b, left_slope, right_b, right_slope))\n",
    "    \n",
    "    if len(prev_lines) > 0: \n",
    "        avg = np.sum(prev_lines, -3) /len(prev_lines)\n",
    "        left_b = avg[0]\n",
    "        left_slope = avg[1]\n",
    "        right_b = avg[2]\n",
    "        right_slope = avg[3]\n",
    "\n",
    "        \"\"\"\n",
    "        Having the slope and intercept enables us to calculate the x coordinates of our desired\n",
    "        start and end points at the top and the bottom of the road.\n",
    "        \"\"\"\n",
    "        ltop_x = (top_y - left_b) / left_slope\n",
    "        lbottom_x = (bottom_y - left_b) / left_slope\n",
    "\n",
    "        rtop_x = (top_y - right_b) / right_slope\n",
    "        rbottom_x = (bottom_y - right_b) / right_slope\n",
    "\n",
    "        cv2.line(img, (lbottom_x, bottom_y), (ltop_x, top_y), color, thickness)\n",
    "        cv2.line(img, (rbottom_x, bottom_y), (rtop_x, top_y), color, thickness)\n",
    "        cv2.rectangle(img,(rtop_x+30, top_y-10), (ltop_x-30, top_y-60),[2,2,2],-1)\n",
    "        \"The rectangle is just to make it look fancy \"    "
   ]
  },
  {
   "cell_type": "markdown",
   "metadata": {},
   "source": [
    "## Test on Images\n",
    "\n",
    "Now you should build your pipeline to work on the images in the directory \"test_images\"  \n",
    "**You should make sure your pipeline works well on these images before you try the videos.**"
   ]
  },
  {
   "cell_type": "code",
   "execution_count": null,
   "metadata": {
    "collapsed": false,
    "scrolled": false
   },
   "outputs": [],
   "source": [
    "import os\n",
    "folder = \"test_images/\"\n",
    "images = os.listdir(folder)\n",
    "\n",
    "def get_roi(w, h):\n",
    "    v1 = (int(w*.11),int(h))\n",
    "    v2 = (int(w*.44),int(h*.60))\n",
    "    v3 = (int(w*.57),int(h*.60))\n",
    "    v4 = (int(w*.97),int(h))\n",
    "    return([[v1,v2,v3,v4]])\n",
    "\n",
    "canny_l_threshold = 70\n",
    "canny_h_threshold = 200\n",
    "\n",
    "rho=1.2\n",
    "theta=np.pi/180\n",
    "threshold=20\n",
    "min_line_len=10\n",
    "max_line_gap=20\n",
    "\n",
    "frame=1\n",
    "\n",
    "def pipeline(image):\n",
    "    roi_vertices = np.array(get_roi(image.shape[1],image.shape[0]), dtype=np.int32)  \n",
    "    \n",
    "    # Add some extra blur\n",
    "    blurred = gaussian_blur(image, 7)\n",
    "    \n",
    "    # Now, run Canny edge detection\n",
    "    edges = canny(blurred, canny_l_threshold, canny_h_threshold)   \n",
    "\n",
    "    # Then focus on our region of interest\n",
    "    roi = region_of_interest(edges, roi_vertices)\n",
    "    \n",
    "    # Once we have the Canny edges it's turn to run Hough transform\n",
    "    # and try to find the lines\n",
    "    lines = hough_lines(roi, rho, theta, threshold, min_line_len, max_line_gap)\n",
    "               \n",
    "    # Overlay the Hough lines into the original image\n",
    "    if debug: \n",
    "        return region_of_interest(weighted_img(lines, image),roi_vertices)\n",
    "    else:\n",
    "        return weighted_img(lines, image)\n",
    "       \n",
    "\n",
    "for imageFile in images:\n",
    "    original_filename, ext = os.path.splitext(imageFile)\n",
    "    if ext != \".jpg\":\n",
    "        continue\n",
    "        \n",
    "    image = mpimg.imread(folder + imageFile)\n",
    "    reset_prev_lines()\n",
    "    output = pipeline(image)\n",
    "    \n",
    "    plt.figure()\n",
    "    plt.imshow(output, cmap='Greys_r')\n",
    "    \n",
    "    new_filename = os.path.join(folder+ \"out/\", original_filename + \"_out\" + ext)\n",
    "    mpimg.imsave(new_filename, output, cmap='Greys_r')\n"
   ]
  },
  {
   "cell_type": "markdown",
   "metadata": {},
   "source": [
    "run your solution on all test_images and make copies into the test_images directory)."
   ]
  },
  {
   "cell_type": "markdown",
   "metadata": {},
   "source": [
    "## Test on Videos\n",
    "\n",
    "You know what's cooler than drawing lanes over images? Drawing lanes over video!\n",
    "\n",
    "We can test our solution on two provided videos:\n",
    "\n",
    "`solidWhiteRight.mp4`\n",
    "\n",
    "`solidYellowLeft.mp4`"
   ]
  },
  {
   "cell_type": "code",
   "execution_count": null,
   "metadata": {
    "collapsed": false
   },
   "outputs": [],
   "source": [
    "# Import everything needed to edit/save/watch video clips\n",
    "from moviepy.editor import VideoFileClip\n",
    "from IPython.display import HTML"
   ]
  },
  {
   "cell_type": "code",
   "execution_count": null,
   "metadata": {
    "collapsed": true
   },
   "outputs": [],
   "source": [
    "def process_image(image):\n",
    "    # NOTE: The output you return should be a color image (3 channel) for processing video below\n",
    "    # TODO: put your pipeline here,\n",
    "    # you should return the final output (image with lines are drawn on lanes)\n",
    "    result = pipeline(image)\n",
    "    \n",
    "    return result"
   ]
  },
  {
   "cell_type": "markdown",
   "metadata": {},
   "source": [
    "Let's try the one with the solid white lane on the right first ..."
   ]
  },
  {
   "cell_type": "code",
   "execution_count": null,
   "metadata": {
    "collapsed": false
   },
   "outputs": [],
   "source": [
    "white_output = 'white_output.mp4'\n",
    "clip1 = VideoFileClip(\"solidWhiteRight.mp4\")\n",
    "reset_prev_lines()\n",
    "white_clip = clip1.fl_image(process_image) #NOTE: this function expects color images!!\n",
    "%time white_clip.write_videofile(white_output, audio=False)"
   ]
  },
  {
   "cell_type": "markdown",
   "metadata": {},
   "source": [
    "Play the video inline, or if you prefer find the video in your filesystem (should be in the same directory) and play it in your video player of choice."
   ]
  },
  {
   "cell_type": "code",
   "execution_count": null,
   "metadata": {
    "collapsed": false
   },
   "outputs": [],
   "source": [
    "HTML(\"\"\"\n",
    "<video width=\"960\" height=\"540\" controls>\n",
    "  <source src=\"{0}\">\n",
    "</video>\n",
    "\"\"\".format(white_output))"
   ]
  },
  {
   "cell_type": "markdown",
   "metadata": {},
   "source": [
    "**At this point, if you were successful you probably have the Hough line segments drawn onto the road, but what about identifying the full extent of the lane and marking it clearly as in the example video (P1_example.mp4)?  Think about defining a line to run the full length of the visible lane based on the line segments you identified with the Hough Transform.  Modify your draw_lines function accordingly and try re-running your pipeline.**"
   ]
  },
  {
   "cell_type": "markdown",
   "metadata": {},
   "source": [
    "Now for the one with the solid yellow lane on the left. This one's more tricky!"
   ]
  },
  {
   "cell_type": "code",
   "execution_count": null,
   "metadata": {
    "collapsed": false
   },
   "outputs": [],
   "source": [
    "yellow_output = 'Yellow_Output.mp4'\n",
    "clip2 = VideoFileClip('solidYellowLeft.mp4')\n",
    "reset_prev_lines()\n",
    "yellow_clip = clip2.fl_image(process_image)\n",
    "%time yellow_clip.write_videofile(yellow_output, audio=False)"
   ]
  },
  {
   "cell_type": "code",
   "execution_count": null,
   "metadata": {
    "collapsed": false
   },
   "outputs": [],
   "source": [
    "HTML(\"\"\"\n",
    "<video width=\"960\" height=\"540\" controls>\n",
    "  <source src=\"{0}\">\n",
    "</video>\n",
    "\"\"\".format(yellow_output))"
   ]
  },
  {
   "cell_type": "markdown",
   "metadata": {},
   "source": [
    "## Reflections\n",
    "\n",
    "\n"
   ]
  },
  {
   "cell_type": "markdown",
   "metadata": {},
   "source": [
    "I learned that removing noise and smoothing the image si really important when applying image processing algorithms. I developed an algorithm that averages the slopes and ignores outliers, with odd values relative to the ones we're searching for.\n",
    "\n",
    "Since it is expected that the location and direction of the lines in successive frames shouldn't change a lot, I am averaging the lines information in time as well. This helps to stabilize the lines so changes in location are more continuous. About a second of video is averaged in the final version. In the optional challenge this helps improv since the 'empty' zone is relatively large, the algorithm eventually loses track of the lines(but it is also quick to get back on track).\n",
    "\n",
    "The timeframe is really short for the project and it was mostly filling in the balnks of the skeleton code. In future, I would like to work on the algorithms mentioned in [1], [2] and [3]. I believe [2] is very closely related to what I worked on but the concept of Hyperbola fitting is something that intrigued me. [3] is interesting but I would not like to spend a lot of time on it.\n",
    "\n",
    "\n",
    "\n",
    "Reference:\n",
    "1. H. Jung, J. Min and J. Kim, \"An efficient lane detection algorithm for lane departure detection,\" 2013 IEEE Intelligent Vehicles Symposium (IV), Gold Coast, QLD, 2013, pp. 976-981.\n",
    "doi: 10.1109/IVS.2013.6629593\n",
    "\n",
    "2. A. A. Assidiq, O. O. Khalifa, M. R. Islam and S. Khan, \"Real time lane detection for autonomous vehicles,\" 2008 International Conference on Computer and Communication Engineering, Kuala Lumpur, 2008, pp. 82-88.\n",
    "doi: 10.1109/ICCCE.2008.4580573\n",
    "\n",
    "3. Z. Kim, \"Robust Lane Detection and Tracking in Challenging Scenarios,\" in IEEE Transactions on Intelligent Transportation Systems, vol. 9, no. 1, pp. 16-26, March 2008.\n",
    "doi: 10.1109/TITS.2007.908582"
   ]
  },
  {
   "cell_type": "markdown",
   "metadata": {},
   "source": [
    "## Submission\n",
    "\n",
    "If you're satisfied with your video outputs it's time to submit!  Submit this ipython notebook for review.\n"
   ]
  },
  {
   "cell_type": "markdown",
   "metadata": {
    "collapsed": true
   },
   "source": [
    "## Optional Challenge\n",
    "\n",
    "I was able to get it to work on the challenge video provided."
   ]
  },
  {
   "cell_type": "code",
   "execution_count": null,
   "metadata": {
    "collapsed": false,
    "scrolled": true
   },
   "outputs": [],
   "source": [
    "challenge_output = 'extra_cbus.mp4'\n",
    "clip2 = VideoFileClip('challenge.mp4')\n",
    "reset_prev_lines()\n",
    "challenge_clip = clip2.fl_image(process_image)\n",
    "%time challenge_clip.write_videofile(challenge_output, audio=False)"
   ]
  },
  {
   "cell_type": "code",
   "execution_count": null,
   "metadata": {
    "collapsed": false,
    "scrolled": true
   },
   "outputs": [],
   "source": [
    "HTML(\"\"\"\n",
    "<video width=\"960\" height=\"540\" controls>\n",
    "  <source src=\"{0}\">\n",
    "</video>\n",
    "\"\"\".format(challenge_output))"
   ]
  },
  {
   "cell_type": "code",
   "execution_count": null,
   "metadata": {
    "collapsed": true
   },
   "outputs": [],
   "source": []
  },
  {
   "cell_type": "code",
   "execution_count": null,
   "metadata": {
    "collapsed": true
   },
   "outputs": [],
   "source": []
  }
 ],
 "metadata": {
  "anaconda-cloud": {},
  "kernelspec": {
   "display_name": "Python 3",
   "language": "python",
   "name": "python3"
  },
  "language_info": {
   "codemirror_mode": {
    "name": "ipython",
    "version": 3
   },
   "file_extension": ".py",
   "mimetype": "text/x-python",
   "name": "python",
   "nbconvert_exporter": "python",
   "pygments_lexer": "ipython3",
   "version": "3.4.3"
  },
  "widgets": {
   "state": {},
   "version": "1.1.2"
  }
 },
 "nbformat": 4,
 "nbformat_minor": 0
}
